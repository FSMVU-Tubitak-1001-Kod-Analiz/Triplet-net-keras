{
 "cells": [
  {
   "cell_type": "code",
   "execution_count": 2,
   "metadata": {},
   "outputs": [],
   "source": [
    "import pandas as pd\n",
    "import random\n",
    "\n",
    "# Load the CSV file into a DataFrame\n",
    "df = pd.read_csv(\"Data/smellKey-data_encoded.csv\")\n",
    "\n",
    "sub_dataset = pd.DataFrame(columns=df.columns)\n",
    "\n",
    "grouped = df.groupby(\"smellKey\")\n",
    "\n",
    "totalNum = 0\n",
    "for smellKey, group in grouped:\n",
    "    if totalNum == 10:\n",
    "        break\n",
    "    if len(group) >= 10:\n",
    "        random_rows = group.sample(n=10, random_state=42)\n",
    "        sub_dataset = pd.concat([sub_dataset, random_rows])\n",
    "        totalNum = totalNum + 1\n",
    "\n",
    "sub_dataset.reset_index(drop=True, inplace=True)\n",
    "\n",
    "sub_dataset.to_csv(\"Data/sub_dataset.csv\", index=False)"
   ]
  }
 ],
 "metadata": {
  "kernelspec": {
   "display_name": "Python 3",
   "language": "python",
   "name": "python3"
  },
  "language_info": {
   "codemirror_mode": {
    "name": "ipython",
    "version": 3
   },
   "file_extension": ".py",
   "mimetype": "text/x-python",
   "name": "python",
   "nbconvert_exporter": "python",
   "pygments_lexer": "ipython3",
   "version": "3.10.4"
  }
 },
 "nbformat": 4,
 "nbformat_minor": 2
}
