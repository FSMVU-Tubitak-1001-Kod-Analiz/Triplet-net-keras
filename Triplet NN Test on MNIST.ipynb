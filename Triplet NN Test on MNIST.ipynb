{
 "cells": [
  {
   "cell_type": "code",
   "execution_count": 1,
   "metadata": {},
   "outputs": [],
   "source": [
    "import numpy as np\n",
    "from sklearn.metrics import roc_curve\n",
    "from sklearn.neighbors import KNeighborsClassifier\n",
    "import random\n",
    "import matplotlib.patheffects as PathEffects\n",
    "\n",
    "from keras.layers import Input, Conv2D, Lambda, Dense, Flatten,MaxPooling2D, concatenate\n",
    "from keras.models import Model, Sequential\n",
    "from keras.regularizers import l2\n",
    "from keras import backend as K\n",
    "from tensorflow.keras.optimizers import SGD\n",
    "from keras.losses import binary_crossentropy\n",
    "import os\n",
    "import pickle\n",
    "import matplotlib.pyplot as plt\n",
    "from tensorflow.keras.optimizers import Adam\n",
    "\n",
    "from itertools import permutations\n",
    "\n",
    "import seaborn as sns\n",
    "\n",
    "from keras.datasets import mnist\n",
    "from sklearn.manifold import TSNE\n",
    "\n",
    "from sklearn.svm import SVC\n"
   ]
  },
  {
   "cell_type": "code",
   "execution_count": 2,
   "metadata": {},
   "outputs": [],
   "source": [
    "import torch\n",
    "from sklearn.model_selection import train_test_split\n",
    "import pandas as pd"
   ]
  },
  {
   "cell_type": "code",
   "execution_count": 8,
   "metadata": {},
   "outputs": [
    {
     "data": {
      "text/plain": [
       "0      0.0\n",
       "1      0.0\n",
       "2      0.0\n",
       "3      0.0\n",
       "4      0.0\n",
       "      ... \n",
       "95    14.0\n",
       "96    14.0\n",
       "97    14.0\n",
       "98    14.0\n",
       "99    14.0\n",
       "Name: smellKey_encoded, Length: 100, dtype: float64"
      ]
     },
     "execution_count": 8,
     "metadata": {},
     "output_type": "execute_result"
    }
   ],
   "source": [
    "with open('Data/sub_dataset_list.pkl', 'rb') as f:\n",
    "    smellKey_list = pickle.load(f)\n",
    "smellKey_list"
   ]
  },
  {
   "cell_type": "code",
   "execution_count": 11,
   "metadata": {},
   "outputs": [
    {
     "data": {
      "text/plain": [
       "array([[ 0.05305316,  0.721399  ,  0.5732451 , ..., -0.82329357,\n",
       "        -0.9310498 ,  0.29698396],\n",
       "       [-0.22184192,  0.23973262,  0.3208173 , ..., -0.5386479 ,\n",
       "        -0.3320793 ,  0.83964026],\n",
       "       [ 0.03883142,  0.33044964,  1.1247997 , ...,  0.07288593,\n",
       "        -0.9057045 ,  0.12496915],\n",
       "       ...,\n",
       "       [-0.16270329, -0.26236066,  0.76572466, ...,  0.14703672,\n",
       "        -0.08933374,  0.04029626],\n",
       "       [ 0.16533531,  0.9115994 ,  0.6147458 , ..., -0.11640675,\n",
       "        -0.6950825 ,  0.14291163],\n",
       "       [ 0.39961746,  0.5364607 ,  0.41132835, ..., -0.2791034 ,\n",
       "        -0.22381859,  0.05056619]], dtype=float32)"
      ]
     },
     "execution_count": 11,
     "metadata": {},
     "output_type": "execute_result"
    }
   ],
   "source": [
    "save_path = 'Data/fn_smell_embeddings_with_triplet.pt'\n",
    "loaded_ast_embeddings = torch.load(save_path)\n",
    "loaded_ast_embeddings = loaded_ast_embeddings.numpy()\n",
    "loaded_ast_embeddings"
   ]
  },
  {
   "cell_type": "code",
   "execution_count": 12,
   "metadata": {},
   "outputs": [],
   "source": [
    "data = pd.DataFrame({\n",
    "    'fn_smell_embeddings.pt': loaded_ast_embeddings.tolist(),\n",
    "    'smellKey_encoded': smellKey_list\n",
    "})\n",
    "\n",
    "X = np.array(data['fn_smell_embeddings.pt'].tolist())\n",
    "y = np.array(data['smellKey_encoded'])\n",
    "\n",
    "x_train, x_test, y_train, y_test = train_test_split(X, y, test_size=0.2, random_state=42)"
   ]
  },
  {
   "cell_type": "code",
   "execution_count": null,
   "metadata": {},
   "outputs": [],
   "source": [
    "(x_train, y_train), (x_test, y_test) = mnist.load_data()"
   ]
  },
  {
   "cell_type": "code",
   "execution_count": 13,
   "metadata": {},
   "outputs": [
    {
     "data": {
      "text/plain": [
       "(20, 768)"
      ]
     },
     "execution_count": 13,
     "metadata": {},
     "output_type": "execute_result"
    }
   ],
   "source": [
    "x_test.shape"
   ]
  },
  {
   "cell_type": "code",
   "execution_count": 14,
   "metadata": {},
   "outputs": [],
   "source": [
    "# Define our own plot function\n",
    "def scatter(x, labels, subtitle=None):\n",
    "    # We choose a color palette with seaborn.\n",
    "    palette = np.array(sns.color_palette(\"hls\", 10))\n",
    "\n",
    "    # We create a scatter plot.\n",
    "    f = plt.figure(figsize=(8, 8))\n",
    "    ax = plt.subplot(aspect='equal')\n",
    "    sc = ax.scatter(x[:,0], x[:,1], lw=0, s=40,\n",
    "                    c=palette[labels.astype(int)])\n",
    "    plt.xlim(-25, 25)\n",
    "    plt.ylim(-25, 25)\n",
    "    ax.axis('off')\n",
    "    ax.axis('tight')\n",
    "\n",
    "    # We add the labels for each digit.\n",
    "    txts = []\n",
    "    for i in range(10):\n",
    "        # Position of each label.\n",
    "        xtext, ytext = np.median(x[labels == i, :], axis=0)\n",
    "        txt = ax.text(xtext, ytext, str(i), fontsize=24)\n",
    "        txt.set_path_effects([\n",
    "            PathEffects.Stroke(linewidth=5, foreground=\"w\"),\n",
    "            PathEffects.Normal()])\n",
    "        txts.append(txt)\n",
    "        \n",
    "    if subtitle != None:\n",
    "        plt.suptitle(subtitle)\n",
    "        \n",
    "    plt.savefig(subtitle)"
   ]
  },
  {
   "cell_type": "code",
   "execution_count": 15,
   "metadata": {},
   "outputs": [
    {
     "name": "stdout",
     "output_type": "stream",
     "text": [
      "(80, 768)\n",
      "(80, 768)\n"
     ]
    }
   ],
   "source": [
    "x_train_flat = x_train\n",
    "x_test_flat = x_test\n",
    "print(x_train.shape)\n",
    "print(x_train_flat.shape)"
   ]
  },
  {
   "cell_type": "code",
   "execution_count": 16,
   "metadata": {},
   "outputs": [
    {
     "ename": "IndexError",
     "evalue": "index 10 is out of bounds for axis 0 with size 10",
     "output_type": "error",
     "traceback": [
      "\u001b[1;31m---------------------------------------------------------------------------\u001b[0m",
      "\u001b[1;31mIndexError\u001b[0m                                Traceback (most recent call last)",
      "\u001b[1;32mc:\\Users\\omerkerem.adali\\Desktop\\tubitak\\Triplet-net-keras\\Triplet NN Test on MNIST.ipynb Cell 10\u001b[0m line \u001b[0;36m3\n\u001b[0;32m      <a href='vscode-notebook-cell:/c%3A/Users/omerkerem.adali/Desktop/tubitak/Triplet-net-keras/Triplet%20NN%20Test%20on%20MNIST.ipynb#X12sZmlsZQ%3D%3D?line=0'>1</a>\u001b[0m tsne \u001b[39m=\u001b[39m TSNE()\n\u001b[0;32m      <a href='vscode-notebook-cell:/c%3A/Users/omerkerem.adali/Desktop/tubitak/Triplet-net-keras/Triplet%20NN%20Test%20on%20MNIST.ipynb#X12sZmlsZQ%3D%3D?line=1'>2</a>\u001b[0m train_tsne_embeds \u001b[39m=\u001b[39m tsne\u001b[39m.\u001b[39mfit_transform(x_train[:\u001b[39m512\u001b[39m])\n\u001b[1;32m----> <a href='vscode-notebook-cell:/c%3A/Users/omerkerem.adali/Desktop/tubitak/Triplet-net-keras/Triplet%20NN%20Test%20on%20MNIST.ipynb#X12sZmlsZQ%3D%3D?line=2'>3</a>\u001b[0m scatter(train_tsne_embeds, y_train[:\u001b[39m512\u001b[39;49m], \u001b[39m\"\u001b[39;49m\u001b[39mSamples from Training Data\u001b[39;49m\u001b[39m\"\u001b[39;49m)\n\u001b[0;32m      <a href='vscode-notebook-cell:/c%3A/Users/omerkerem.adali/Desktop/tubitak/Triplet-net-keras/Triplet%20NN%20Test%20on%20MNIST.ipynb#X12sZmlsZQ%3D%3D?line=4'>5</a>\u001b[0m eval_tsne_embeds \u001b[39m=\u001b[39m tsne\u001b[39m.\u001b[39mfit_transform(x_test[:\u001b[39m512\u001b[39m])\n\u001b[0;32m      <a href='vscode-notebook-cell:/c%3A/Users/omerkerem.adali/Desktop/tubitak/Triplet-net-keras/Triplet%20NN%20Test%20on%20MNIST.ipynb#X12sZmlsZQ%3D%3D?line=5'>6</a>\u001b[0m scatter(eval_tsne_embeds, y_test[:\u001b[39m512\u001b[39m], \u001b[39m\"\u001b[39m\u001b[39mSamples from Validation Data\u001b[39m\u001b[39m\"\u001b[39m)\n",
      "\u001b[1;32mc:\\Users\\omerkerem.adali\\Desktop\\tubitak\\Triplet-net-keras\\Triplet NN Test on MNIST.ipynb Cell 10\u001b[0m line \u001b[0;36m1\n\u001b[0;32m      <a href='vscode-notebook-cell:/c%3A/Users/omerkerem.adali/Desktop/tubitak/Triplet-net-keras/Triplet%20NN%20Test%20on%20MNIST.ipynb#X12sZmlsZQ%3D%3D?line=6'>7</a>\u001b[0m f \u001b[39m=\u001b[39m plt\u001b[39m.\u001b[39mfigure(figsize\u001b[39m=\u001b[39m(\u001b[39m8\u001b[39m, \u001b[39m8\u001b[39m))\n\u001b[0;32m      <a href='vscode-notebook-cell:/c%3A/Users/omerkerem.adali/Desktop/tubitak/Triplet-net-keras/Triplet%20NN%20Test%20on%20MNIST.ipynb#X12sZmlsZQ%3D%3D?line=7'>8</a>\u001b[0m ax \u001b[39m=\u001b[39m plt\u001b[39m.\u001b[39msubplot(aspect\u001b[39m=\u001b[39m\u001b[39m'\u001b[39m\u001b[39mequal\u001b[39m\u001b[39m'\u001b[39m)\n\u001b[0;32m      <a href='vscode-notebook-cell:/c%3A/Users/omerkerem.adali/Desktop/tubitak/Triplet-net-keras/Triplet%20NN%20Test%20on%20MNIST.ipynb#X12sZmlsZQ%3D%3D?line=8'>9</a>\u001b[0m sc \u001b[39m=\u001b[39m ax\u001b[39m.\u001b[39mscatter(x[:,\u001b[39m0\u001b[39m], x[:,\u001b[39m1\u001b[39m], lw\u001b[39m=\u001b[39m\u001b[39m0\u001b[39m, s\u001b[39m=\u001b[39m\u001b[39m40\u001b[39m,\n\u001b[1;32m---> <a href='vscode-notebook-cell:/c%3A/Users/omerkerem.adali/Desktop/tubitak/Triplet-net-keras/Triplet%20NN%20Test%20on%20MNIST.ipynb#X12sZmlsZQ%3D%3D?line=9'>10</a>\u001b[0m                 c\u001b[39m=\u001b[39mpalette[labels\u001b[39m.\u001b[39;49mastype(\u001b[39mint\u001b[39;49m)])\n\u001b[0;32m     <a href='vscode-notebook-cell:/c%3A/Users/omerkerem.adali/Desktop/tubitak/Triplet-net-keras/Triplet%20NN%20Test%20on%20MNIST.ipynb#X12sZmlsZQ%3D%3D?line=10'>11</a>\u001b[0m plt\u001b[39m.\u001b[39mxlim(\u001b[39m-\u001b[39m\u001b[39m25\u001b[39m, \u001b[39m25\u001b[39m)\n\u001b[0;32m     <a href='vscode-notebook-cell:/c%3A/Users/omerkerem.adali/Desktop/tubitak/Triplet-net-keras/Triplet%20NN%20Test%20on%20MNIST.ipynb#X12sZmlsZQ%3D%3D?line=11'>12</a>\u001b[0m plt\u001b[39m.\u001b[39mylim(\u001b[39m-\u001b[39m\u001b[39m25\u001b[39m, \u001b[39m25\u001b[39m)\n",
      "\u001b[1;31mIndexError\u001b[0m: index 10 is out of bounds for axis 0 with size 10"
     ]
    },
    {
     "data": {
      "image/png": "[encoded data removed]",
      "text/plain": [
       "<Figure size 800x800 with 1 Axes>"
      ]
     },
     "metadata": {},
     "output_type": "display_data"
    }
   ],
   "source": [
    "tsne = TSNE()\n",
    "train_tsne_embeds = tsne.fit_transform(x_train[:512])\n",
    "scatter(train_tsne_embeds, y_train[:512], \"Samples from Training Data\")\n",
    "\n",
    "eval_tsne_embeds = tsne.fit_transform(x_test[:512])\n",
    "scatter(eval_tsne_embeds, y_test[:512], \"Samples from Validation Data\")"
   ]
  },
  {
   "cell_type": "code",
   "execution_count": 25,
   "metadata": {},
   "outputs": [],
   "source": [
    "Classifier_input = Input((768,))\n",
    "Classifier_output = Dense(10, activation='softmax')(Classifier_input)\n",
    "Classifier_model = Model(Classifier_input, Classifier_output)"
   ]
  },
  {
   "cell_type": "code",
   "execution_count": 19,
   "metadata": {},
   "outputs": [],
   "source": [
    "from sklearn.preprocessing import LabelBinarizer"
   ]
  },
  {
   "cell_type": "code",
   "execution_count": 20,
   "metadata": {},
   "outputs": [],
   "source": [
    "le = LabelBinarizer()"
   ]
  },
  {
   "cell_type": "code",
   "execution_count": 24,
   "metadata": {},
   "outputs": [
    {
     "data": {
      "text/plain": [
       "(80, 10)"
      ]
     },
     "execution_count": 24,
     "metadata": {},
     "output_type": "execute_result"
    }
   ],
   "source": [
    "y_train_onehot = le.fit_transform(y_train)\n",
    "y_test_onehot = le.transform(y_test)"
   ]
  },
  {
   "cell_type": "code",
   "execution_count": 26,
   "metadata": {},
   "outputs": [],
   "source": [
    "Classifier_model.compile(optimizer='adam',loss='categorical_crossentropy',metrics=['accuracy'])"
   ]
  },
  {
   "cell_type": "code",
   "execution_count": 27,
   "metadata": {},
   "outputs": [
    {
     "name": "stdout",
     "output_type": "stream",
     "text": [
      "Epoch 1/50\n",
      "3/3 [==============================] - 1s 80ms/step - loss: 2.4377 - accuracy: 0.1000 - val_loss: 2.3888 - val_accuracy: 0.0500\n",
      "Epoch 2/50\n",
      "3/3 [==============================] - 0s 12ms/step - loss: 2.2350 - accuracy: 0.1625 - val_loss: 2.4419 - val_accuracy: 0.1000\n",
      "Epoch 3/50\n",
      "3/3 [==============================] - 0s 12ms/step - loss: 2.1147 - accuracy: 0.2750 - val_loss: 2.4110 - val_accuracy: 0.1000\n",
      "Epoch 4/50\n",
      "3/3 [==============================] - 0s 13ms/step - loss: 2.0260 - accuracy: 0.2750 - val_loss: 2.3115 - val_accuracy: 0.1500\n",
      "Epoch 5/50\n",
      "3/3 [==============================] - 0s 13ms/step - loss: 1.9174 - accuracy: 0.3625 - val_loss: 2.1887 - val_accuracy: 0.1500\n",
      "Epoch 6/50\n",
      "3/3 [==============================] - 0s 12ms/step - loss: 1.8298 - accuracy: 0.4250 - val_loss: 2.1029 - val_accuracy: 0.1500\n",
      "Epoch 7/50\n",
      "3/3 [==============================] - 0s 12ms/step - loss: 1.7580 - accuracy: 0.5000 - val_loss: 2.0505 - val_accuracy: 0.2000\n",
      "Epoch 8/50\n",
      "3/3 [==============================] - 0s 12ms/step - loss: 1.6765 - accuracy: 0.5750 - val_loss: 2.0367 - val_accuracy: 0.2500\n",
      "Epoch 9/50\n",
      "3/3 [==============================] - 0s 13ms/step - loss: 1.6089 - accuracy: 0.5875 - val_loss: 2.0399 - val_accuracy: 0.2500\n",
      "Epoch 10/50\n",
      "3/3 [==============================] - 0s 13ms/step - loss: 1.5343 - accuracy: 0.6500 - val_loss: 2.0204 - val_accuracy: 0.3000\n",
      "Epoch 11/50\n",
      "3/3 [==============================] - 0s 11ms/step - loss: 1.4828 - accuracy: 0.6500 - val_loss: 2.0034 - val_accuracy: 0.3000\n",
      "Epoch 12/50\n",
      "3/3 [==============================] - 0s 12ms/step - loss: 1.4265 - accuracy: 0.6625 - val_loss: 1.9360 - val_accuracy: 0.3000\n",
      "Epoch 13/50\n",
      "3/3 [==============================] - 0s 12ms/step - loss: 1.3701 - accuracy: 0.7875 - val_loss: 1.8602 - val_accuracy: 0.3500\n",
      "Epoch 14/50\n",
      "3/3 [==============================] - 0s 12ms/step - loss: 1.3262 - accuracy: 0.7750 - val_loss: 1.8240 - val_accuracy: 0.3500\n",
      "Epoch 15/50\n",
      "3/3 [==============================] - 0s 12ms/step - loss: 1.2766 - accuracy: 0.7750 - val_loss: 1.8229 - val_accuracy: 0.3500\n",
      "Epoch 16/50\n",
      "3/3 [==============================] - 0s 12ms/step - loss: 1.2285 - accuracy: 0.8125 - val_loss: 1.8211 - val_accuracy: 0.3500\n",
      "Epoch 17/50\n",
      "3/3 [==============================] - 0s 12ms/step - loss: 1.1854 - accuracy: 0.8250 - val_loss: 1.8146 - val_accuracy: 0.3500\n",
      "Epoch 18/50\n",
      "3/3 [==============================] - 0s 12ms/step - loss: 1.1443 - accuracy: 0.8250 - val_loss: 1.7944 - val_accuracy: 0.3500\n",
      "Epoch 19/50\n",
      "3/3 [==============================] - 0s 15ms/step - loss: 1.1081 - accuracy: 0.8250 - val_loss: 1.7811 - val_accuracy: 0.3500\n",
      "Epoch 20/50\n",
      "3/3 [==============================] - 0s 13ms/step - loss: 1.0721 - accuracy: 0.8375 - val_loss: 1.7677 - val_accuracy: 0.3500\n",
      "Epoch 21/50\n",
      "3/3 [==============================] - 0s 12ms/step - loss: 1.0340 - accuracy: 0.8625 - val_loss: 1.7569 - val_accuracy: 0.3500\n",
      "Epoch 22/50\n",
      "3/3 [==============================] - 0s 12ms/step - loss: 1.0056 - accuracy: 0.8625 - val_loss: 1.7536 - val_accuracy: 0.3000\n",
      "Epoch 23/50\n",
      "3/3 [==============================] - 0s 12ms/step - loss: 0.9801 - accuracy: 0.8500 - val_loss: 1.7536 - val_accuracy: 0.3000\n",
      "Epoch 24/50\n",
      "3/3 [==============================] - 0s 12ms/step - loss: 0.9498 - accuracy: 0.8500 - val_loss: 1.7196 - val_accuracy: 0.3000\n",
      "Epoch 25/50\n",
      "3/3 [==============================] - 0s 12ms/step - loss: 0.9178 - accuracy: 0.8750 - val_loss: 1.7012 - val_accuracy: 0.3500\n",
      "Epoch 26/50\n",
      "3/3 [==============================] - 0s 11ms/step - loss: 0.8935 - accuracy: 0.8750 - val_loss: 1.6698 - val_accuracy: 0.3500\n",
      "Epoch 27/50\n",
      "3/3 [==============================] - 0s 12ms/step - loss: 0.8651 - accuracy: 0.8875 - val_loss: 1.6471 - val_accuracy: 0.3500\n",
      "Epoch 28/50\n",
      "3/3 [==============================] - 0s 12ms/step - loss: 0.8388 - accuracy: 0.8875 - val_loss: 1.6334 - val_accuracy: 0.4000\n",
      "Epoch 29/50\n",
      "3/3 [==============================] - 0s 14ms/step - loss: 0.8178 - accuracy: 0.9125 - val_loss: 1.6269 - val_accuracy: 0.3500\n",
      "Epoch 30/50\n",
      "3/3 [==============================] - 0s 11ms/step - loss: 0.7954 - accuracy: 0.9000 - val_loss: 1.6335 - val_accuracy: 0.3500\n",
      "Epoch 31/50\n",
      "3/3 [==============================] - 0s 11ms/step - loss: 0.7718 - accuracy: 0.9125 - val_loss: 1.6295 - val_accuracy: 0.4000\n",
      "Epoch 32/50\n",
      "3/3 [==============================] - 0s 11ms/step - loss: 0.7499 - accuracy: 0.9000 - val_loss: 1.6362 - val_accuracy: 0.3500\n",
      "Epoch 33/50\n",
      "3/3 [==============================] - 0s 19ms/step - loss: 0.7337 - accuracy: 0.9000 - val_loss: 1.6493 - val_accuracy: 0.4000\n",
      "Epoch 34/50\n",
      "3/3 [==============================] - 0s 12ms/step - loss: 0.7124 - accuracy: 0.8875 - val_loss: 1.6401 - val_accuracy: 0.4000\n",
      "Epoch 35/50\n",
      "3/3 [==============================] - 0s 12ms/step - loss: 0.6931 - accuracy: 0.9125 - val_loss: 1.6168 - val_accuracy: 0.3500\n",
      "Epoch 36/50\n",
      "3/3 [==============================] - 0s 14ms/step - loss: 0.6786 - accuracy: 0.9250 - val_loss: 1.5934 - val_accuracy: 0.3500\n",
      "Epoch 37/50\n",
      "3/3 [==============================] - 0s 13ms/step - loss: 0.6604 - accuracy: 0.9625 - val_loss: 1.5707 - val_accuracy: 0.4000\n",
      "Epoch 38/50\n",
      "3/3 [==============================] - 0s 17ms/step - loss: 0.6450 - accuracy: 0.9625 - val_loss: 1.5579 - val_accuracy: 0.4000\n",
      "Epoch 39/50\n",
      "3/3 [==============================] - 0s 14ms/step - loss: 0.6272 - accuracy: 0.9500 - val_loss: 1.5540 - val_accuracy: 0.5000\n",
      "Epoch 40/50\n",
      "3/3 [==============================] - 0s 12ms/step - loss: 0.6101 - accuracy: 0.9625 - val_loss: 1.5645 - val_accuracy: 0.5000\n",
      "Epoch 41/50\n",
      "3/3 [==============================] - 0s 12ms/step - loss: 0.5960 - accuracy: 0.9625 - val_loss: 1.5743 - val_accuracy: 0.5000\n",
      "Epoch 42/50\n",
      "3/3 [==============================] - 0s 11ms/step - loss: 0.5810 - accuracy: 0.9625 - val_loss: 1.5913 - val_accuracy: 0.5000\n",
      "Epoch 43/50\n",
      "3/3 [==============================] - 0s 12ms/step - loss: 0.5684 - accuracy: 0.9500 - val_loss: 1.5971 - val_accuracy: 0.4500\n",
      "Epoch 44/50\n",
      "3/3 [==============================] - 0s 11ms/step - loss: 0.5557 - accuracy: 0.9500 - val_loss: 1.5887 - val_accuracy: 0.5500\n",
      "Epoch 45/50\n",
      "3/3 [==============================] - 0s 12ms/step - loss: 0.5422 - accuracy: 0.9500 - val_loss: 1.5801 - val_accuracy: 0.5500\n",
      "Epoch 46/50\n",
      "3/3 [==============================] - 0s 12ms/step - loss: 0.5286 - accuracy: 0.9500 - val_loss: 1.5667 - val_accuracy: 0.5500\n",
      "Epoch 47/50\n",
      "3/3 [==============================] - 0s 12ms/step - loss: 0.5157 - accuracy: 0.9750 - val_loss: 1.5534 - val_accuracy: 0.5500\n",
      "Epoch 48/50\n",
      "3/3 [==============================] - 0s 12ms/step - loss: 0.5041 - accuracy: 0.9750 - val_loss: 1.5400 - val_accuracy: 0.5500\n",
      "Epoch 49/50\n",
      "3/3 [==============================] - 0s 11ms/step - loss: 0.4947 - accuracy: 0.9750 - val_loss: 1.5291 - val_accuracy: 0.5500\n",
      "Epoch 50/50\n",
      "3/3 [==============================] - 0s 12ms/step - loss: 0.4855 - accuracy: 0.9750 - val_loss: 1.5193 - val_accuracy: 0.5500\n"
     ]
    },
    {
     "data": {
      "text/plain": [
       "<keras.callbacks.History at 0x15b2b3e9cf0>"
      ]
     },
     "execution_count": 27,
     "metadata": {},
     "output_type": "execute_result"
    }
   ],
   "source": [
    "Classifier_model.fit(x_train_flat,y_train_onehot, validation_data=(x_test_flat,y_test_onehot),epochs=50)"
   ]
  },
  {
   "cell_type": "code",
   "execution_count": 36,
   "metadata": {},
   "outputs": [],
   "source": [
    "def generate_triplet(x,y,testsize=0.3,ap_pairs=10,an_pairs=10):\n",
    "    data_xy = tuple([x,y])\n",
    "\n",
    "    trainsize = 1-testsize\n",
    "\n",
    "    triplet_train_pairs = []\n",
    "    triplet_test_pairs = []\n",
    "    for data_class in sorted(set(data_xy[1])):\n",
    "\n",
    "        same_class_idx = np.where((data_xy[1] == data_class))[0]\n",
    "        diff_class_idx = np.where(data_xy[1] != data_class)[0]\n",
    "        A_P_pairs = random.sample(list(permutations(same_class_idx,2)),k=ap_pairs) #Generating Anchor-Positive pairs\n",
    "        Neg_idx = random.sample(list(diff_class_idx),k=an_pairs)\n",
    "        \n",
    "\n",
    "        #train\n",
    "        A_P_len = len(A_P_pairs)\n",
    "        Neg_len = len(Neg_idx)\n",
    "        for ap in A_P_pairs[:int(A_P_len*trainsize)]:\n",
    "            Anchor = data_xy[0][ap[0]]\n",
    "            Positive = data_xy[0][ap[1]]\n",
    "            for n in Neg_idx:\n",
    "                Negative = data_xy[0][n]\n",
    "                triplet_train_pairs.append([Anchor,Positive,Negative])               \n",
    "        #test\n",
    "        for ap in A_P_pairs[int(A_P_len*trainsize):]:\n",
    "            Anchor = data_xy[0][ap[0]]\n",
    "            Positive = data_xy[0][ap[1]]\n",
    "            for n in Neg_idx:\n",
    "                Negative = data_xy[0][n]\n",
    "                triplet_test_pairs.append([Anchor,Positive,Negative])    \n",
    "                \n",
    "    return np.array(triplet_train_pairs), np.array(triplet_test_pairs)"
   ]
  },
  {
   "cell_type": "code",
   "execution_count": null,
   "metadata": {},
   "outputs": [],
   "source": [
    "data_xy = tuple([x_train_flat,y_train])\n",
    "for data_class in sorted(set(data_xy[1])):\n",
    "    same_class_idx = np.where((data_xy[1] == data_class))[0]\n",
    "    diff_class_idx = np.where(data_xy[1] != data_class)[0]\n",
    "    print(list(permutations(same_class_idx,2)))"
   ]
  },
  {
   "cell_type": "code",
   "execution_count": 56,
   "metadata": {},
   "outputs": [
    {
     "data": {
      "text/plain": [
       "(7200, 3, 768)"
      ]
     },
     "execution_count": 56,
     "metadata": {},
     "output_type": "execute_result"
    }
   ],
   "source": [
    "X_train, X_test = generate_triplet(x_train_flat,y_train, ap_pairs=30, an_pairs=30,testsize=0.2)\n",
    "X_train.shape"
   ]
  },
  {
   "cell_type": "markdown",
   "metadata": {},
   "source": [
    "## Triplet NN"
   ]
  },
  {
   "cell_type": "code",
   "execution_count": 40,
   "metadata": {},
   "outputs": [],
   "source": [
    "def triplet_loss(y_true, y_pred, alpha = 0.4):\n",
    "    \"\"\"\n",
    "    Implementation of the triplet loss function\n",
    "    Arguments:\n",
    "    y_true -- true labels, required when you define a loss in Keras, you don't need it in this function.\n",
    "    y_pred -- python list containing three objects:\n",
    "            anchor -- the encodings for the anchor data\n",
    "            positive -- the encodings for the positive data (similar to anchor)\n",
    "            negative -- the encodings for the negative data (different from anchor)\n",
    "    Returns:\n",
    "    loss -- real number, value of the loss\n",
    "    \"\"\"\n",
    "    print('y_pred.shape = ',y_pred)\n",
    "    \n",
    "    total_lenght = y_pred.shape.as_list()[-1]\n",
    "#     print('total_lenght=',  total_lenght)\n",
    "#     total_lenght =12\n",
    "    \n",
    "    anchor = y_pred[:,0:int(total_lenght*1/3)]\n",
    "    positive = y_pred[:,int(total_lenght*1/3):int(total_lenght*2/3)]\n",
    "    negative = y_pred[:,int(total_lenght*2/3):int(total_lenght*3/3)]\n",
    "\n",
    "    # distance between the anchor and the positive\n",
    "    pos_dist = K.sum(K.square(anchor-positive),axis=1)\n",
    "\n",
    "    # distance between the anchor and the negative\n",
    "    neg_dist = K.sum(K.square(anchor-negative),axis=1)\n",
    "\n",
    "    # compute loss\n",
    "    basic_loss = pos_dist-neg_dist+alpha\n",
    "    loss = K.maximum(basic_loss,0.0)\n",
    " \n",
    "    return loss"
   ]
  },
  {
   "cell_type": "code",
   "execution_count": 41,
   "metadata": {},
   "outputs": [],
   "source": [
    "def create_base_network(in_dims):\n",
    "    \"\"\"\n",
    "    Base network to be shared.\n",
    "    \"\"\"\n",
    "    model = Sequential()\n",
    "    model.add(Conv2D(128,(7,7),padding='same',input_shape=(in_dims[0],in_dims[1],in_dims[2],),activation='relu',name='conv1'))\n",
    "    model.add(MaxPooling2D((2,2),(2,2),padding='same',name='pool1'))\n",
    "    model.add(Conv2D(256,(5,5),padding='same',activation='relu',name='conv2'))\n",
    "    model.add(MaxPooling2D((2,2),(2,2),padding='same',name='pool2'))\n",
    "    model.add(Flatten(name='flatten'))\n",
    "    model.add(Dense(4,name='embeddings'))\n",
    "    # model.add(Dense(600))\n",
    "    \n",
    "    return model"
   ]
  },
  {
   "cell_type": "code",
   "execution_count": 42,
   "metadata": {},
   "outputs": [
    {
     "name": "stderr",
     "output_type": "stream",
     "text": [
      "WARNING:absl:`lr` is deprecated in Keras optimizer, please use `learning_rate` or use the legacy optimizer, e.g.,tf.keras.optimizers.legacy.Adam.\n"
     ]
    }
   ],
   "source": [
    "adam_optim = Adam(lr=0.0001, beta_1=0.9, beta_2=0.999)"
   ]
  },
  {
   "cell_type": "code",
   "execution_count": 43,
   "metadata": {},
   "outputs": [],
   "source": [
    "anchor_input = Input((28,28,1, ), name='anchor_input')\n",
    "positive_input = Input((28,28,1, ), name='positive_input')\n",
    "negative_input = Input((28,28,1, ), name='negative_input')\n",
    "\n",
    "# Shared embedding layer for positive and negative items\n",
    "Shared_DNN = create_base_network([28,28,1,])\n",
    "\n",
    "\n",
    "encoded_anchor = Shared_DNN(anchor_input)\n",
    "encoded_positive = Shared_DNN(positive_input)\n",
    "encoded_negative = Shared_DNN(negative_input)\n",
    "\n",
    "\n",
    "merged_vector = concatenate([encoded_anchor, encoded_positive, encoded_negative], axis=-1, name='merged_layer')\n",
    "\n",
    "model = Model(inputs=[anchor_input,positive_input, negative_input], outputs=merged_vector)\n",
    "model.compile(loss=triplet_loss, optimizer=adam_optim)"
   ]
  },
  {
   "cell_type": "code",
   "execution_count": 44,
   "metadata": {},
   "outputs": [
    {
     "name": "stdout",
     "output_type": "stream",
     "text": [
      "Model: \"model_1\"\n",
      "__________________________________________________________________________________________________\n",
      " Layer (type)                   Output Shape         Param #     Connected to                     \n",
      "==================================================================================================\n",
      " anchor_input (InputLayer)      [(None, 28, 28, 1)]  0           []                               \n",
      "                                                                                                  \n",
      " positive_input (InputLayer)    [(None, 28, 28, 1)]  0           []                               \n",
      "                                                                                                  \n",
      " negative_input (InputLayer)    [(None, 28, 28, 1)]  0           []                               \n",
      "                                                                                                  \n",
      " sequential (Sequential)        (None, 4)            876036      ['anchor_input[0][0]',           \n",
      "                                                                  'positive_input[0][0]',         \n",
      "                                                                  'negative_input[0][0]']         \n",
      "                                                                                                  \n",
      " merged_layer (Concatenate)     (None, 12)           0           ['sequential[0][0]',             \n",
      "                                                                  'sequential[1][0]',             \n",
      "                                                                  'sequential[2][0]']             \n",
      "                                                                                                  \n",
      "==================================================================================================\n",
      "Total params: 876,036\n",
      "Trainable params: 876,036\n",
      "Non-trainable params: 0\n",
      "__________________________________________________________________________________________________\n"
     ]
    }
   ],
   "source": [
    "model.summary()"
   ]
  },
  {
   "cell_type": "code",
   "execution_count": 45,
   "metadata": {},
   "outputs": [
    {
     "ename": "ValueError",
     "evalue": "cannot reshape array of size 5529600 into shape (28,28,1)",
     "output_type": "error",
     "traceback": [
      "\u001b[1;31m---------------------------------------------------------------------------\u001b[0m",
      "\u001b[1;31mValueError\u001b[0m                                Traceback (most recent call last)",
      "\u001b[1;32mc:\\Users\\omerkerem.adali\\Desktop\\tubitak\\Triplet-net-keras\\Triplet NN Test on MNIST.ipynb Cell 26\u001b[0m line \u001b[0;36m1\n\u001b[1;32m----> <a href='vscode-notebook-cell:/c%3A/Users/omerkerem.adali/Desktop/tubitak/Triplet-net-keras/Triplet%20NN%20Test%20on%20MNIST.ipynb#X34sZmlsZQ%3D%3D?line=0'>1</a>\u001b[0m Anchor \u001b[39m=\u001b[39m X_train[:,\u001b[39m0\u001b[39;49m,:]\u001b[39m.\u001b[39;49mreshape(\u001b[39m-\u001b[39;49m\u001b[39m1\u001b[39;49m,\u001b[39m28\u001b[39;49m,\u001b[39m28\u001b[39;49m,\u001b[39m1\u001b[39;49m)\n\u001b[0;32m      <a href='vscode-notebook-cell:/c%3A/Users/omerkerem.adali/Desktop/tubitak/Triplet-net-keras/Triplet%20NN%20Test%20on%20MNIST.ipynb#X34sZmlsZQ%3D%3D?line=1'>2</a>\u001b[0m Positive \u001b[39m=\u001b[39m X_train[:,\u001b[39m1\u001b[39m,:]\u001b[39m.\u001b[39mreshape(\u001b[39m-\u001b[39m\u001b[39m1\u001b[39m,\u001b[39m28\u001b[39m,\u001b[39m28\u001b[39m,\u001b[39m1\u001b[39m)\n\u001b[0;32m      <a href='vscode-notebook-cell:/c%3A/Users/omerkerem.adali/Desktop/tubitak/Triplet-net-keras/Triplet%20NN%20Test%20on%20MNIST.ipynb#X34sZmlsZQ%3D%3D?line=2'>3</a>\u001b[0m Negative \u001b[39m=\u001b[39m X_train[:,\u001b[39m2\u001b[39m,:]\u001b[39m.\u001b[39mreshape(\u001b[39m-\u001b[39m\u001b[39m1\u001b[39m,\u001b[39m28\u001b[39m,\u001b[39m28\u001b[39m,\u001b[39m1\u001b[39m)\n",
      "\u001b[1;31mValueError\u001b[0m: cannot reshape array of size 5529600 into shape (28,28,1)"
     ]
    }
   ],
   "source": [
    "Anchor = X_train[:,0,:].reshape(-1,28,28,1)\n",
    "Positive = X_train[:,1,:].reshape(-1,28,28,1)\n",
    "Negative = X_train[:,2,:].reshape(-1,28,28,1)\n",
    "Anchor_test = X_test[:,0,:].reshape(-1,28,28,1)\n",
    "Positive_test = X_test[:,1,:].reshape(-1,28,28,1)\n",
    "Negative_test = X_test[:,2,:].reshape(-1,28,28,1)\n",
    "\n",
    "Y_dummy = np.empty((Anchor.shape[0],300))\n",
    "Y_dummy2 = np.empty((Anchor_test.shape[0],1))\n",
    "\n",
    "model.fit([Anchor,Positive,Negative],y=Y_dummy,validation_data=([Anchor_test,Positive_test,Negative_test],Y_dummy2), batch_size=512, epochs=500)"
   ]
  },
  {
   "cell_type": "code",
   "execution_count": null,
   "metadata": {},
   "outputs": [],
   "source": [
    "trained_model = Model(inputs=anchor_input, outputs=encoded_anchor)"
   ]
  },
  {
   "cell_type": "code",
   "execution_count": null,
   "metadata": {},
   "outputs": [],
   "source": [
    "trained_model.load_weights('triplet_model_MNIST.hdf5')"
   ]
  },
  {
   "cell_type": "code",
   "execution_count": null,
   "metadata": {},
   "outputs": [],
   "source": [
    "tsne = TSNE()\n",
    "X_train_trm = trained_model.predict(x_train[:512].reshape(-1,28,28,1))\n",
    "X_test_trm = trained_model.predict(x_test[:512].reshape(-1,28,28,1))\n",
    "train_tsne_embeds = tsne.fit_transform(X_train_trm)\n",
    "eval_tsne_embeds = tsne.fit_transform(X_test_trm)"
   ]
  },
  {
   "cell_type": "code",
   "execution_count": null,
   "metadata": {},
   "outputs": [],
   "source": [
    "scatter(train_tsne_embeds, y_train[:512], \"Training Data After TNN\")"
   ]
  },
  {
   "cell_type": "code",
   "execution_count": null,
   "metadata": {},
   "outputs": [],
   "source": [
    "scatter(eval_tsne_embeds, y_test[:512], \"Validation Data After TNN\")"
   ]
  },
  {
   "cell_type": "code",
   "execution_count": null,
   "metadata": {},
   "outputs": [],
   "source": [
    "X_train_trm = trained_model.predict(x_train.reshape(-1,28,28,1))\n",
    "X_test_trm = trained_model.predict(x_test.reshape(-1,28,28,1))\n",
    "\n",
    "Classifier_input = Input((4,))\n",
    "Classifier_output = Dense(10, activation='softmax')(Classifier_input)\n",
    "Classifier_model = Model(Classifier_input, Classifier_output)\n",
    "\n",
    "\n",
    "Classifier_model.compile(optimizer='adam',loss='categorical_crossentropy',metrics=['accuracy'])\n",
    "\n",
    "Classifier_model.fit(X_train_trm,y_train_onehot, validation_data=(X_test_trm,y_test_onehot),epochs=10)"
   ]
  },
  {
   "cell_type": "code",
   "execution_count": null,
   "metadata": {},
   "outputs": [],
   "source": []
  }
 ],
 "metadata": {
  "kernelspec": {
   "display_name": "Python 3 (ipykernel)",
   "language": "python",
   "name": "python3"
  },
  "language_info": {
   "codemirror_mode": {
    "name": "ipython",
    "version": 3
   },
   "file_extension": ".py",
   "mimetype": "text/x-python",
   "name": "python",
   "nbconvert_exporter": "python",
   "pygments_lexer": "ipython3",
   "version": "3.10.4"
  }
 },
 "nbformat": 4,
 "nbformat_minor": 2
}
